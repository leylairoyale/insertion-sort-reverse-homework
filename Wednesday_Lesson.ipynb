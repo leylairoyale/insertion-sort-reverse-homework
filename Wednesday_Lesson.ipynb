{
 "cells": [
  {
   "cell_type": "markdown",
   "metadata": {},
   "source": [
    "# Algorithms, Binary Search & Linked Lists"
   ]
  },
  {
   "cell_type": "markdown",
   "metadata": {},
   "source": [
    "## Tasks Today:\n",
    "\n",
    "1) <b>Regular Expressions - <i>Covered Thursday</i></b> <br>\n",
    "2) <b>In-Place Algorithms</b> <br>\n",
    " &nbsp;&nbsp;&nbsp;&nbsp; a) Syntax <br>\n",
    " &nbsp;&nbsp;&nbsp;&nbsp; a) Out of Place Algorithm <br>\n",
    " &nbsp;&nbsp;&nbsp;&nbsp; b) In-Class Exercise #1 <br>\n",
    "3) <b>Two Pointers</b> <br>\n",
    "4) <b>Linked Lists</b> <br>\n",
    "5) <b>Merge Sort</b> <br>\n",
    " &nbsp;&nbsp;&nbsp;&nbsp; a) Video on Algorithms <br>\n",
    " &nbsp;&nbsp;&nbsp;&nbsp; b) How it Works <br>\n",
    "6) <b>Exercises</b> <br>\n",
    " &nbsp;&nbsp;&nbsp;&nbsp; a) Exercise #1 - Write Insertion Sort <br>\n",
    " &nbsp;&nbsp;&nbsp;&nbsp; b) Exercise #2 - Reverse a List in Place Using an In-Place Algorithm <br>\n",
    " &nbsp;&nbsp;&nbsp;&nbsp; c) Exercise #3 - Find Distinct Words <br>"
   ]
  },
  {
   "cell_type": "markdown",
   "metadata": {},
   "source": [
    "## In-Place Algorithms"
   ]
  },
  {
   "cell_type": "markdown",
   "metadata": {},
   "source": [
    "#### Syntax"
   ]
  },
  {
   "cell_type": "code",
   "execution_count": 3,
   "metadata": {},
   "outputs": [
    {
     "name": "stdout",
     "output_type": "stream",
     "text": [
      "[4, 8, 15, 16, 23, 42]\n"
     ]
    },
    {
     "data": {
      "text/plain": [
       "[4, 8, 42, 16, 23, 15]"
      ]
     },
     "execution_count": 3,
     "metadata": {},
     "output_type": "execute_result"
    }
   ],
   "source": [
    "# var[i], var[i + 1] = var[i + 1], var[i]\n",
    "# sometimes called a swap\n",
    "#this is basically what the sorted function is built on in Python.\n",
    "#you create a function, or an algorithmic function.\n",
    "\n",
    "def swap(alist, x, y, z):\n",
    "#x y z are placeholders for what you wanna swap.\n",
    "    \"\"\"Swap funciton requires alist to be a list and x, y, z to be indexes in the list\"\"\"\n",
    "    print(alist)\n",
    "    alist[x], alist[y], alist[z] = alist[z], alist[y], alist[x]\n",
    "    return alist\n",
    "\n",
    "thelist = [4, 8, 15, 16, 23, 42]\n",
    "\n",
    "\n",
    "swap(thelist, 2, 4, 5)\n",
    "#2, 4, 5 are index points here, not actual numbers."
   ]
  },
  {
   "cell_type": "markdown",
   "metadata": {},
   "source": [
    "#### Out of Place Algorithm"
   ]
  },
  {
   "cell_type": "code",
   "execution_count": 9,
   "metadata": {},
   "outputs": [
    {
     "data": {
      "text/plain": [
       "[5, 4, 3, 2, 1]"
      ]
     },
     "execution_count": 9,
     "metadata": {},
     "output_type": "execute_result"
    }
   ],
   "source": [
    "# not swapping, but rather reversing completely\n",
    "thelist = [1,2,3,4,5]\n",
    "\n",
    "thelist[::-1]\n",
    "\n"
   ]
  },
  {
   "cell_type": "markdown",
   "metadata": {},
   "source": [
    "#### In-Class Exercise #1 <br>\n",
    "<p>Write a function that takes in four arguments (list, index1, index2, index3), and swaps those three positions in the list passed in.</p>"
   ]
  },
  {
   "cell_type": "code",
   "execution_count": 11,
   "metadata": {},
   "outputs": [
    {
     "name": "stdout",
     "output_type": "stream",
     "text": [
      "['yo ', 'why ', 'do ', 'i ', 'wanna ', 'stressbuy ', 'a ', 'guinea ', 'pig?! ']\n",
      "['yo ', 'why ', 'i ', 'a ', 'wanna ', 'stressbuy ', 'do ', 'guinea ', 'pig?! ']\n"
     ]
    }
   ],
   "source": [
    "l_1 = [10, 4, 3, 8, 4, 2, 6]\n",
    "\n",
    "def swappy(list, x, y, z):\n",
    "    print(list)\n",
    "    list[x], list[y], list[z] = list[y], list[z], list[x]\n",
    "    print(list)\n",
    "    \n",
    "\n",
    "dislist = [\"yo \", \"why \", \"do \", \"i \", \"wanna \", \"stressbuy \", \"a \", \"guinea \", \"pig?! \"]\n",
    "\n",
    "swappy(dislist, 3, 6, 2)\n",
    "\n"
   ]
  },
  {
   "cell_type": "markdown",
   "metadata": {},
   "source": [
    "## Two Pointers"
   ]
  },
  {
   "cell_type": "markdown",
   "metadata": {},
   "source": [
    "#### Syntax"
   ]
  },
  {
   "cell_type": "code",
   "execution_count": 13,
   "metadata": {},
   "outputs": [
    {
     "data": {
      "text/plain": [
       "['act',\n",
       " 'breathe',\n",
       " 'think',\n",
       " 'stand',\n",
       " 'i',\n",
       " 'can',\n",
       " 'feel',\n",
       " 'overworked',\n",
       " 'definitely',\n",
       " 'am',\n",
       " 'i']"
      ]
     },
     "execution_count": 13,
     "metadata": {},
     "output_type": "execute_result"
    }
   ],
   "source": [
    "# alist[left], alist[right] = alist[right], alist[left]\n",
    "# use two pointers to swap, uses while loop\n",
    "#allows you to point a specific value to a variable. \n",
    "#in other languages you would have to actually point, with the keyword pointer, to get to another\n",
    "#value. python just lets you swap in place. looks very similar to re-assigning variables\n",
    "#and that's what it is, but python you don't have to say point, which is what lower\n",
    "#level languages are actually saying. \n",
    "\n",
    "def twoPointers(list):\n",
    "    #first pointer\n",
    "    left = 0\n",
    "    #second pointer\n",
    "    right = len(list) -1\n",
    "    #so that says go to the list and start at the end.\n",
    "    while left <= right:\n",
    "        list[left], list[right] = list[right], list[left]\n",
    "        left += 1\n",
    "        right -= 1\n",
    "    return list\n",
    "\n",
    "\n",
    "list = [\"i\", \"am\", \"definitely\", \"overworked\", \"feel\", \"can\", \"i\", \"stand\", \"think\", \"breathe\", \"act\"]\n",
    " \n",
    "twoPointers(list)\n",
    "    \n",
    "\n"
   ]
  },
  {
   "cell_type": "markdown",
   "metadata": {},
   "source": [
    "# Linked List (Data Structure)\n",
    "\n",
    "A linked list is created by using the node class. We create a Node object and create another class to use this node object. We pass the appropriate values thorugh the node object to point the to the next data elements.\n",
    "\n",
    "There are some advantages and disadvantages with this data structure. **Advantages** Linked Lists can save memory because they can be flexibile with memory management which saves memory. **Disadvantages** Finding or adding to the list requires traversing the entire list."
   ]
  },
  {
   "cell_type": "code",
   "execution_count": 16,
   "metadata": {},
   "outputs": [
    {
     "name": "stdout",
     "output_type": "stream",
     "text": [
      "Monday\n",
      "Tuesday\n",
      "Wednesday\n",
      "Thursday\n",
      "Friday\n",
      "Saturday\n",
      "Sunday\n"
     ]
    }
   ],
   "source": [
    "class Node():\n",
    "    def __init__(self, dataval = None):\n",
    "        #dataval = None just sets your data to nothing at first. this is all to prep to\n",
    "        #instanciate it all. \n",
    "        self.dataval = dataval\n",
    "        #self.nextval points to the nextvalue\n",
    "        self.nextval = None\n",
    "        \n",
    "class SinglyLinkedList():\n",
    "    def __init__(self):\n",
    "        #sets your starter as nothing\n",
    "        self.headval = None\n",
    "        \n",
    "    def listPrint(self):\n",
    "        printval = self.headval\n",
    "        #below creates your loop that loops through all the values you have.\n",
    "        while printval is not None:\n",
    "            print(printval.dataval)\n",
    "            printval = printval.nextval\n",
    "\n",
    "#below instantiates the list.\n",
    "list1 = SinglyLinkedList()\n",
    "#creates the headvalue that the rest can point to.\n",
    "list1.headval = Node(\"Monday\")\n",
    "#the rest of this is just assigning other values that can follow the Node method that means it\n",
    "#replaces what the Node value is.\n",
    "day2 = Node(\"Tuesday\")\n",
    "day3 = Node(\"Wednesday\")\n",
    "day4 = Node(\"Thursday\")\n",
    "day5 = Node(\"Friday\")\n",
    "day6 = Node(\"Saturday\")\n",
    "day7 = Node(\"Sunday\")\n",
    "\n",
    "#Link first Node to second Node\n",
    "list1.headval.nextval = day2\n",
    "#link second Node to third Node\n",
    "day2.nextval = day3\n",
    "day3.nextval = day4\n",
    "day4.nextval = day5\n",
    "day5.nextval = day6\n",
    "day6.nextval = day7\n",
    "\n",
    "list1.listPrint()\n",
    "#that runs through the loop, printing each one. "
   ]
  },
  {
   "cell_type": "markdown",
   "metadata": {},
   "source": [
    "## Merge Sort"
   ]
  },
  {
   "cell_type": "markdown",
   "metadata": {},
   "source": [
    "#### Video of Algorithms <br>\n",
    "<p>Watch the video about algorithms.</p>\n",
    "\n",
    "https://www.youtube.com/watch?v=Q9HjeFD62Uk\n",
    "\n",
    "https://www.youtube.com/watch?v=kPRA0W1kECg\n",
    "\n",
    "https://www.youtube.com/watch?v=ZZuD6iUe3Pc"
   ]
  },
  {
   "cell_type": "markdown",
   "metadata": {},
   "source": [
    "#### How it Works"
   ]
  },
  {
   "cell_type": "code",
   "execution_count": 41,
   "metadata": {},
   "outputs": [
    {
     "name": "stdout",
     "output_type": "stream",
     "text": [
      "[33, 52, 79, 41, 25, 61, 93, 37, 78, 83, 30]\n",
      "List Splittttt... [33, 52, 79, 41, 25, 61, 93, 37, 78, 83, 30]\n",
      "List Splittttt... [33, 52, 79, 41, 25]\n",
      "List Splittttt... [33, 52]\n",
      "List Splittttt... [33]\n",
      "Merging it all back [33]\n",
      "List Splittttt... [52]\n",
      "Merging it all back [52]\n",
      "Merging it all back [33, 52]\n",
      "List Splittttt... [79, 41, 25]\n",
      "List Splittttt... [79]\n",
      "Merging it all back [79]\n",
      "List Splittttt... [41, 25]\n",
      "List Splittttt... [41]\n",
      "Merging it all back [41]\n",
      "List Splittttt... [25]\n",
      "Merging it all back [25]\n",
      "Merging it all back [25, 41]\n",
      "Merging it all back [25, 41, 79]\n",
      "Merging it all back [25, 33, 41, 52, 79]\n",
      "List Splittttt... [61, 93, 37, 78, 83, 30]\n",
      "List Splittttt... [61, 93, 37]\n",
      "List Splittttt... [61]\n",
      "Merging it all back [61]\n",
      "List Splittttt... [93, 37]\n",
      "List Splittttt... [93]\n",
      "Merging it all back [93]\n",
      "List Splittttt... [37]\n",
      "Merging it all back [37]\n",
      "Merging it all back [37, 93]\n",
      "Merging it all back [37, 61, 93]\n",
      "List Splittttt... [78, 83, 30]\n",
      "List Splittttt... [78]\n",
      "Merging it all back [78]\n",
      "List Splittttt... [83, 30]\n",
      "List Splittttt... [83]\n",
      "Merging it all back [83]\n",
      "List Splittttt... [30]\n",
      "Merging it all back [30]\n",
      "Merging it all back [30, 83]\n",
      "Merging it all back [30, 78, 83]\n",
      "Merging it all back [30, 37, 61, 78, 83, 93]\n",
      "Merging it all back [25, 30, 33, 37, 41, 52, 61, 78, 79, 83, 93]\n"
     ]
    }
   ],
   "source": [
    "# Step 1: Split everything into it's own group\n",
    "# Step 2: From left to right merge two groups together\n",
    "# Step 3: While merging, place each item in the correct position within the merged group\n",
    "# Step 4: Continue steps 3-4 until one group is left\n",
    "\n",
    "from random import randint\n",
    "# used to generate a random list of 10 numbers from 0 to 100\n",
    "nums = [randint(0, 100) for i in range(11)]\n",
    "# write merge sort\n",
    "\n",
    "def mergeSort(alist):\n",
    "    print(\"List Splittttt...\", alist)\n",
    "    if len(alist) > 1:\n",
    "        mid = len(alist) // 2\n",
    "        lefthalf = alist[:mid]\n",
    "        righthalf = alist[mid:]\n",
    "        \n",
    "        mergeSort(lefthalf)\n",
    "        mergeSort(righthalf)\n",
    "\n",
    "        i = 0\n",
    "        j = 0\n",
    "        k = 0\n",
    "        \n",
    "        while i < len(lefthalf) and j < len(righthalf):\n",
    "            if lefthalf[i] < righthalf[j]:\n",
    "                alist[k] = lefthalf[i]\n",
    "                i = i + 1 \n",
    "            else:\n",
    "                alist[k] = righthalf[j]\n",
    "                j = j+1\n",
    "            k = k + 1\n",
    "            \n",
    "        while i < len(lefthalf):\n",
    "            alist[k] = lefthalf[i]\n",
    "            i = i + 1\n",
    "            k = k + 1\n",
    "            \n",
    "        while j < len(righthalf):\n",
    "            alist[k] = righthalf[j]\n",
    "            j = j + 1\n",
    "            k = k + 1\n",
    "            \n",
    "    print(\"Merging it all back\", alist)\n",
    "    \n",
    "print(nums)\n",
    "mergeSort(nums)"
   ]
  },
  {
   "cell_type": "markdown",
   "metadata": {},
   "source": [
    "# Exercises"
   ]
  },
  {
   "cell_type": "markdown",
   "metadata": {},
   "source": [
    "### Exercise #1 <br>\n",
    "<p>Write a function that performs insertion sort on the list below.</p>"
   ]
  },
  {
   "cell_type": "code",
   "execution_count": 68,
   "metadata": {},
   "outputs": [
    {
     "name": "stdout",
     "output_type": "stream",
     "text": [
      "[39, 29, 87, 62, 41, 99, 87, 44, 10, 34]\n",
      "[99, 29, 34, 39, 41, 44, 62, 87, 87, 10]\n"
     ]
    }
   ],
   "source": [
    "from random import randint\n",
    "# used to generate a random list of 10 numbers from 0 to 100\n",
    "nums = [randint(0, 100) for i in range(10)]\n",
    "# write insertion sort\n",
    "\n",
    "# step 1: loop forward to end\n",
    "# step 2: check current index is lower than previous\n",
    "# step3: if so, loop backwards\n",
    "# step4: check if current index is less than previous again\n",
    "# step 5: swap \n",
    "# step 6: if not, break\n",
    "\n",
    "def insertionSort(alist):\n",
    "    print(alist)\n",
    "    for number in range(1, len(alist)):\n",
    "        key = alist[number]\n",
    "        j = number\n",
    "        while j >= 0 and (key < alist[j-1]):\n",
    "            alist[j] = alist[j - 1]\n",
    "            j -= 1\n",
    "        alist[j] = key\n",
    "        \n",
    "    print(alist)\n",
    "\n",
    "insertionSort(nums)\n",
    "\n",
    "#i failed at this."
   ]
  },
  {
   "cell_type": "markdown",
   "metadata": {},
   "source": [
    "### Exercise #2 <br>\n",
    "<p>Reverse the list below in-place using an in-place algorithm.<br>For extra credit: Reverse the strings at the same time.</p>"
   ]
  },
  {
   "cell_type": "code",
   "execution_count": 37,
   "metadata": {},
   "outputs": [
    {
     "name": "stdout",
     "output_type": "stream",
     "text": [
      "['.', 'sentence', 'a', 'is', 'this']\n",
      "['.', 'ecnetnes', 'a', 'si', 'siht']\n"
     ]
    }
   ],
   "source": [
    "words = ['this' , 'is', 'a', 'sentence', '.']\n",
    "\n",
    "def reverse(listy):\n",
    "    backwards = listy[::-1]\n",
    "    backwoods = []\n",
    "    for i in backwards:\n",
    "        backwoods.append(i[::-1])\n",
    "    print(backwards)\n",
    "    print(backwoods)\n",
    "    pass\n",
    "\n",
    "reverse(words)"
   ]
  },
  {
   "cell_type": "markdown",
   "metadata": {},
   "source": [
    "### Exercise #3 <br>\n",
    "<p>Create a function that counts how many distinct words are in the string below, then outputs a dictionary with the words as the key and the value as the amount of times that word appears in the string.<br>Should output:<br>{'a': 5,<br>\n",
    " 'abstract': 1,<br>\n",
    " 'an': 3,<br>\n",
    " 'array': 2, ... etc...</p>"
   ]
  },
  {
   "cell_type": "code",
   "execution_count": 56,
   "metadata": {},
   "outputs": [
    {
     "name": "stdout",
     "output_type": "stream",
     "text": [
      "['in', 'computing,', 'a', 'hash', 'table', 'hash', 'map', 'is', 'a', 'data', 'structure', 'which', 'implements', 'an', 'associative', 'array', 'abstract', 'data', 'type,', 'a', 'structure', 'that', 'can', 'map', 'keys', 'to', 'values.', 'a', 'hash', 'table', 'uses', 'a', 'hash', 'function', 'to', 'compute', 'an', 'index', 'into', 'an', 'array', 'of', 'buckets', 'or', 'slots', 'from', 'which', 'the', 'desired', 'value', 'can', 'be', 'found']\n",
      "{'in': 1, 'computing,': 1, 'a': 2, 'hash': 2, 'table': 2, 'map': 2, 'is': 1, 'data': 2, 'structure': 2, 'which': 2, 'implements': 1, 'an': 2, 'associative': 1, 'array': 2, 'abstract': 1, 'type,': 1, 'that': 1, 'can': 2, 'keys': 1, 'to': 2, 'values.': 1, 'uses': 1, 'function': 1, 'compute': 1, 'index': 1, 'into': 1, 'of': 1, 'buckets': 1, 'or': 1, 'slots': 1, 'from': 1, 'the': 1, 'desired': 1, 'value': 1, 'be': 1, 'found': 1}\n"
     ]
    }
   ],
   "source": [
    "a_text = 'In computing, a hash table hash map is a data structure which implements an associative array abstract data type, a structure that can map keys to values. A hash table uses a hash function to compute an index into an array of buckets or slots from which the desired value can be found'\n",
    "\n",
    "def counting(a_text):\n",
    "    a_text = a_text.lower()\n",
    "    a_text = a_text.split()\n",
    "    print(a_text)\n",
    "    dictoFun = {}\n",
    "    for word in a_text:\n",
    "        if word not in dictoFun:\n",
    "            dictoFun.update({word: 1})\n",
    "        elif word in dictoFun:\n",
    "            for keys, values in dictoFun.items():\n",
    "                dictoFun[word] = values + 1\n",
    "    print(dictoFun)\n",
    "    \n",
    "counting(a_text)\n",
    "    \n",
    "            \n",
    "#i also failed at this. it was a rough night.\n"
   ]
  }
 ],
 "metadata": {
  "kernelspec": {
   "display_name": "Python 3",
   "language": "python",
   "name": "python3"
  },
  "language_info": {
   "codemirror_mode": {
    "name": "ipython",
    "version": 3
   },
   "file_extension": ".py",
   "mimetype": "text/x-python",
   "name": "python",
   "nbconvert_exporter": "python",
   "pygments_lexer": "ipython3",
   "version": "3.7.3"
  }
 },
 "nbformat": 4,
 "nbformat_minor": 2
}
